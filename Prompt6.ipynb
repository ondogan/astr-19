{
 "cells": [
  {
   "cell_type": "code",
   "execution_count": 5,
   "id": "9fd9a637-0bcf-40d4-88e8-d38ed959d7b6",
   "metadata": {},
   "outputs": [],
   "source": [
    "import numpy as np\n",
    "from astropy.table import Table\n"
   ]
  },
  {
   "cell_type": "markdown",
   "id": "fd98d383-2f4c-451c-977b-eac46192cff7",
   "metadata": {},
   "source": [
    "Accepts number x and returns sin of x (markdown is used for commenting)"
   ]
  },
  {
   "cell_type": "code",
   "execution_count": 6,
   "id": "95d1bc43-acd4-4501-b5f9-05d13739ae06",
   "metadata": {},
   "outputs": [],
   "source": [
    "def cos_func(x):\n",
    "    answer = np.cos(x)\n",
    "    return answer"
   ]
  },
  {
   "cell_type": "markdown",
   "id": "ed0b8782-aad0-4de7-90c7-402d64f3e238",
   "metadata": {},
   "source": [
    "Accepts number x and returns cos of x"
   ]
  },
  {
   "cell_type": "code",
   "execution_count": 7,
   "id": "5e138bd0-d2da-4714-97e2-ddcd2322f8d6",
   "metadata": {},
   "outputs": [],
   "source": [
    "def sin_func(x):\n",
    "    answer = np.sin(x)\n",
    "    return answer"
   ]
  },
  {
   "cell_type": "code",
   "execution_count": 8,
   "id": "17acc318-dd5c-481a-94e9-f20d7c28d482",
   "metadata": {},
   "outputs": [],
   "source": [
    "x = np.linspace(0,2*np.pi,1000)"
   ]
  },
  {
   "cell_type": "code",
   "execution_count": 9,
   "id": "90537f14-3fd0-4173-a411-4a24d9f5f687",
   "metadata": {},
   "outputs": [],
   "source": [
    "data_table = Table()\n",
    "\n",
    "data_table[\"x\"] = x\n",
    "data_table[\"sin(x)\"] = sin_func(x)\n",
    "data_table[\"cos(x)\"] = cos_func(x)\n"
   ]
  },
  {
   "cell_type": "code",
   "execution_count": 10,
   "id": "5f6c0d07-d28b-40c5-87a9-602050315b6f",
   "metadata": {},
   "outputs": [
    {
     "name": "stdout",
     "output_type": "stream",
     "text": [
      " x  sin(x) cos(x)\n",
      "--- ------ ------\n",
      "0.0    0.0    1.0\n",
      "         x                  sin(x)              cos(x)      \n",
      "-------------------- -------------------- ------------------\n",
      "0.006289474781961547 0.006289433316067751 0.9999802213186832\n",
      "         x                  sin(x)              cos(x)      \n",
      "-------------------- -------------------- ------------------\n",
      "0.012578949563923095 0.012578617838741058 0.9999208860571255\n",
      "         x                  sin(x)             cos(x)      \n",
      "-------------------- ------------------- ------------------\n",
      "0.018868424345884642 0.01886730478446709 0.9998219965624732\n",
      "         x                 sin(x)              cos(x)      \n",
      "------------------- -------------------- ------------------\n",
      "0.02515789912784619 0.025155245389375847 0.9996835567465339\n",
      "         x                sin(x)             cos(x)      \n",
      "------------------- ------------------ ------------------\n",
      "0.03144737390980774 0.0314421909191206 0.9995055720856215\n",
      "         x                  sin(x)            cos(x)     \n",
      "-------------------- ------------------- ----------------\n",
      "0.037736848691769284 0.03772789267871718 0.99928804962034\n",
      "         x                 sin(x)             cos(x)      \n",
      "------------------- ------------------- ------------------\n",
      "0.04402632347373083 0.04401210202238166 0.9990309979553044\n",
      "         x                 sin(x)             cos(x)      \n",
      "------------------- ------------------- ------------------\n",
      "0.05031579825569238 0.05029457036336618 0.9987344272588006\n",
      "         x                  sin(x)              cos(x)      \n",
      "-------------------- -------------------- ------------------\n",
      "0.056605273037653926 0.056575049183792345 0.9983983492623831\n"
     ]
    }
   ],
   "source": [
    "for i in range(10):\n",
    "    print(data_table[i])"
   ]
  }
 ],
 "metadata": {
  "kernelspec": {
   "display_name": "Python 3 (ipykernel)",
   "language": "python",
   "name": "python3"
  },
  "language_info": {
   "codemirror_mode": {
    "name": "ipython",
    "version": 3
   },
   "file_extension": ".py",
   "mimetype": "text/x-python",
   "name": "python",
   "nbconvert_exporter": "python",
   "pygments_lexer": "ipython3",
   "version": "3.12.1"
  }
 },
 "nbformat": 4,
 "nbformat_minor": 5
}
